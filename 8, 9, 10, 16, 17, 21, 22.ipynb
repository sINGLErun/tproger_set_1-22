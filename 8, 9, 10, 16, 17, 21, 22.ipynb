{
 "cells": [
  {
   "cell_type": "code",
   "execution_count": 7,
   "metadata": {},
   "outputs": [
    {
     "name": "stdout",
     "output_type": "stream",
     "text": [
      "Your string is a palindrome\n"
     ]
    }
   ],
   "source": [
    "# Напишите проверку на то, является ли строка палиндромом.\n",
    "# Палиндром — это слово или фраза, которые одинаково читаются\n",
    "# слева направо и справа налево.\n",
    "\n",
    "s = 'strts' # input()\n",
    "if s == s[::-1]:\n",
    "    print('Your string is a palindrome')"
   ]
  },
  {
   "cell_type": "code",
   "execution_count": 37,
   "metadata": {},
   "outputs": [
    {
     "name": "stdout",
     "output_type": "stream",
     "text": [
      "11 : 13 : 46 : 40\n"
     ]
    }
   ],
   "source": [
    "# Сделайте так, чтобы число секунд отображалось в виде\n",
    "# дни:часы:минуты:секунды.\n",
    "\n",
    "sec = 10**6\n",
    "\n",
    "print(sec//(24*60**2),':',\n",
    "      sec%(24*60**2)//(60*60),':',\n",
    "      sec%(24*60**2)%(60*60)//60, ':',\n",
    "      sec%(24*60**2)%(60*60)%(60))"
   ]
  },
  {
   "cell_type": "code",
   "execution_count": 45,
   "metadata": {},
   "outputs": [
    {
     "name": "stdout",
     "output_type": "stream",
     "text": [
      "1, 2, 3\n",
      "[1.0, 2.0, 3.0] \n",
      " (1.0, 2.0, 3.0)\n"
     ]
    }
   ],
   "source": [
    "# Вы принимаете от пользователя последовательность чисел,\n",
    "# разделённых запятой. Составьте список и кортеж с этими числами.\n",
    "\n",
    "s = input()\n",
    "\n",
    "list_from_string = list(map(float, s.split(', ')))\n",
    "tuple_from_string = tuple(map(float, s.split(', ')))\n",
    "\n",
    "print(list_from_string,'\\n', tuple_from_string)"
   ]
  },
  {
   "cell_type": "code",
   "execution_count": 7,
   "metadata": {},
   "outputs": [
    {
     "name": "stdout",
     "output_type": "stream",
     "text": [
      "привет\n",
      "п т\n"
     ]
    }
   ],
   "source": [
    "# Выведите первый и последний элемент списка.\n",
    "s = input()\n",
    "\n",
    "print(s[0], s[-1])"
   ]
  },
  {
   "cell_type": "code",
   "execution_count": 56,
   "metadata": {},
   "outputs": [
    {
     "data": {
      "text/plain": [
       "['.git',\n",
       " '.gitignore',\n",
       " '.ipynb_checkpoints',\n",
       " '2-7.ipynb',\n",
       " '8.ipynb',\n",
       " 'solve.py']"
      ]
     },
     "execution_count": 56,
     "metadata": {},
     "output_type": "execute_result"
    }
   ],
   "source": [
    "# Выведите список файлов в указанной директории.\n",
    "import os\n",
    "\n",
    "# это файлы и папки\n",
    "os.listdir(path=\"c:/...\")"
   ]
  },
  {
   "cell_type": "code",
   "execution_count": 61,
   "metadata": {},
   "outputs": [
    {
     "name": "stdout",
     "output_type": "stream",
     "text": [
      "15\n"
     ]
    }
   ],
   "source": [
    "# Сложите цифры целого числа.\n",
    "from functools import reduce\n",
    "\n",
    "s = 12345\n",
    "\n",
    "sum_of_digits = reduce(lambda x, y: int(x) + int(y), str(s))\n",
    "\n",
    "print(sum_of_digits)"
   ]
  },
  {
   "cell_type": "code",
   "execution_count": 68,
   "metadata": {},
   "outputs": [
    {
     "name": "stdout",
     "output_type": "stream",
     "text": [
      "[255, 15, 60, 75]\n"
     ]
    }
   ],
   "source": [
    "# С помощью анонимной функции извлеките из списка числа, делимые на 15.\n",
    "\n",
    "numbers = [125, 255, 15, 60, 234, 61, 123, 75]\n",
    "\n",
    "filtered = list(filter(lambda x: not x%15, numbers))\n",
    "\n",
    "print(filtered)"
   ]
  },
  {
   "cell_type": "code",
   "execution_count": 73,
   "metadata": {},
   "outputs": [
    {
     "data": {
      "text/plain": [
       "False"
      ]
     },
     "execution_count": 73,
     "metadata": {},
     "output_type": "execute_result"
    }
   ],
   "source": [
    "# Нужно проверить, все ли числа в последовательности уникальны.\n",
    "\n",
    "s = [1, 1, 2, 2, 3, 4, 5, 6]\n",
    "\n",
    "s == list(set(s))"
   ]
  },
  {
   "cell_type": "code",
   "execution_count": 6,
   "metadata": {},
   "outputs": [
    {
     "name": "stdout",
     "output_type": "stream",
     "text": [
      "Я дописал двадцать вторую задачу\n",
      "frequanses are the same\n",
      "двадцать\n"
     ]
    }
   ],
   "source": [
    "# Напишите программу, которая принимает текст и выводит два слова:\n",
    "# наиболее часто встречающееся и самое длинное.\n",
    "\n",
    "s = input()\n",
    "s_ = s.split(' ')\n",
    "\n",
    "bag = list(set([(el, s_.count(el)) for el in s_]))\n",
    "bag_freq = sorted(bag, key=lambda x: x[1], reverse=True)\n",
    "bag_len = sorted(bag, key=lambda x: len(x[0]), reverse=True)\n",
    "\n",
    "if bag_freq[0][1] == bag_freq[-1][1]:\n",
    "    print('frequanses are the same')\n",
    "else:\n",
    "    print(bag_freq[0][0])\n",
    "    \n",
    "if len(bag_len[0][0]) == len(bag_len[-1][0]):\n",
    "    print('all words have the same length')\n",
    "else:\n",
    "    print(bag_len[0][0])"
   ]
  }
 ],
 "metadata": {
  "kernelspec": {
   "display_name": "Python 3",
   "language": "python",
   "name": "python3"
  },
  "language_info": {
   "codemirror_mode": {
    "name": "ipython",
    "version": 3
   },
   "file_extension": ".py",
   "mimetype": "text/x-python",
   "name": "python",
   "nbconvert_exporter": "python",
   "pygments_lexer": "ipython3",
   "version": "3.7.4"
  }
 },
 "nbformat": 4,
 "nbformat_minor": 2
}
