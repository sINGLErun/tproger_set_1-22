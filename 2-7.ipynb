{
 "cells": [
  {
   "cell_type": "code",
   "execution_count": 25,
   "metadata": {},
   "outputs": [],
   "source": [
    "# Даны списки:\n",
    "\n",
    "a = [1, 1, 2, 3, 5, 8, 13, 21, 34, 55, 89]\n",
    "\n",
    "b = [1, 2, 3, 4, 5, 6, 7, 8, 9, 10, 11, 12, 13]\n",
    "\n",
    "# Нужно вернуть список, который состоит из элементов, общих для этих двух списков.\n",
    "\n",
    "c = [number for number in a if number in b]"
   ]
  },
  {
   "cell_type": "code",
   "execution_count": 58,
   "metadata": {},
   "outputs": [
    {
     "data": {
      "text/plain": [
       "[('G', 17),\n",
       " ('H', 10),\n",
       " ('D', 8),\n",
       " ('E', 6),\n",
       " ('F', 5),\n",
       " ('C', 4),\n",
       " ('A', 3),\n",
       " ('B', 2)]"
      ]
     },
     "execution_count": 58,
     "metadata": {},
     "output_type": "execute_result"
    }
   ],
   "source": [
    "# Отсортируйте словарь по значению в порядке возрастания и убывания.\n",
    "\n",
    "d = {\n",
    "    'A' : 3,\n",
    "    'B' : 2,\n",
    "    'C' : 4,\n",
    "    'D' : 8,\n",
    "    'E' : 6,\n",
    "    'F' : 5,\n",
    "    'G' : 17,\n",
    "    'H' : 10,\n",
    "}\n",
    "\n",
    "sorted(d.items(), key=lambda x: x[1], reverse = False)\n",
    "# sorted(d.items(), key=lambda x: x[1], reverse = True)"
   ]
  },
  {
   "cell_type": "code",
   "execution_count": 151,
   "metadata": {
    "scrolled": false
   },
   "outputs": [
    {
     "data": {
      "text/plain": [
       "{'A1': 3,\n",
       " 'B1': 2,\n",
       " 'C1': 4,\n",
       " 'D1': 8,\n",
       " 'E1': 6,\n",
       " 'F1': 5,\n",
       " 'G1': 17,\n",
       " 'H1': 10,\n",
       " 'A2': 2,\n",
       " 'B2': 12,\n",
       " 'C2': 43,\n",
       " 'D2': 87,\n",
       " 'E2': 16,\n",
       " 'F2': 59,\n",
       " 'G2': 117,\n",
       " 'H2': 100}"
      ]
     },
     "execution_count": 151,
     "metadata": {},
     "output_type": "execute_result"
    }
   ],
   "source": [
    "# Напишите программу для слияния нескольких словарей в один.\n",
    "\n",
    "d1 = {\n",
    "    'A1' : 3,\n",
    "    'B1' : 2,\n",
    "    'C1' : 4,\n",
    "    'D1' : 8,\n",
    "    'E1' : 6,\n",
    "    'F1' : 5,\n",
    "    'G1' : 17,\n",
    "    'H1' : 10,\n",
    "}\n",
    "\n",
    "d2 = {\n",
    "    'A2' : 2,\n",
    "    'B2' : 12,\n",
    "    'C2' : 43,\n",
    "    'D2' : 87,\n",
    "    'E2' : 16,\n",
    "    'F2' : 59,\n",
    "    'G2' : 117,\n",
    "    'H2' : 100,\n",
    "}\n",
    "\n",
    "\n",
    "d3 = list(d1.items())\n",
    "[d3.append(list(d2.items())[k]) for k in range(len(d2))]\n",
    "dict(d3)\n",
    "\n",
    "# SOLUTION\n",
    "#\n",
    "# d3 = {}\n",
    "# [d3.update(d) for d in (d1, d2)]"
   ]
  },
  {
   "cell_type": "code",
   "execution_count": 163,
   "metadata": {},
   "outputs": [
    {
     "data": {
      "text/plain": [
       "['b', 'e', 'c']"
      ]
     },
     "execution_count": 163,
     "metadata": {},
     "output_type": "execute_result"
    }
   ],
   "source": [
    "# Найдите три ключа с самыми высокими значениями в словаре\n",
    "\n",
    "my_dict = {'a':500, 'b':5874, 'c': 560,'d':400, 'e':5874, 'f': 20}\n",
    "\n",
    "list(dict(sorted(my_dict.items(), key=lambda x: -x[1])).keys())[:3]"
   ]
  },
  {
   "cell_type": "code",
   "execution_count": 278,
   "metadata": {},
   "outputs": [
    {
     "name": "stdout",
     "output_type": "stream",
     "text": [
      "1\n",
      "1 2 1\n",
      "1 3 3 1\n",
      "1 4 6 4 1\n",
      "1 5 10 10 5 1\n",
      "1 6 15 20 15 6 1\n",
      "1 7 21 35 35 21 7 1\n",
      "1 8 28 56 70 56 28 8 1\n",
      "1 9 36 84 126 126 84 36 9 1\n",
      "1 10 45 120 210 252 210 120 45 10 1\n"
     ]
    }
   ],
   "source": [
    "# Нужно вывести первые n строк треугольника Паскаля.\n",
    "# В этом треугольнике на вершине и по бокам стоят единицы,\n",
    "# а каждое число внутри равно сумме двух расположенных над ним чисел.\n",
    "\n",
    "def pascal_triangle(sN_1, k, n):\n",
    "    \n",
    "    if n == 1 or k == 0: print('1')\n",
    "    \n",
    "    elif n == 2 or k == 1:\n",
    "        print('1')\n",
    "        print('1 2 1')\n",
    "    \n",
    "    if k != n-1 and n-1 != 0:\n",
    "        s_ = list(map(int, sN_1.split(' ')))\n",
    "        s_ = [s_[i] + s_[i+1] for i in range(len(s_)-1)]\n",
    "        sN = '1 ' + ' '.join(list(map(str, s_))) + ' 1'\n",
    "        print(sN)\n",
    "        \n",
    "        pascal_triangle(sN, k+1, n)\n",
    "            \n",
    "\n",
    "s = '1 2 1'\n",
    "n = 10\n",
    "\n",
    "pascal_triangle(s, 1, n)"
   ]
  },
  {
   "cell_type": "code",
   "execution_count": null,
   "metadata": {},
   "outputs": [],
   "source": []
  }
 ],
 "metadata": {
  "kernelspec": {
   "display_name": "Python 3",
   "language": "python",
   "name": "python3"
  },
  "language_info": {
   "codemirror_mode": {
    "name": "ipython",
    "version": 3
   },
   "file_extension": ".py",
   "mimetype": "text/x-python",
   "name": "python",
   "nbconvert_exporter": "python",
   "pygments_lexer": "ipython3",
   "version": "3.7.4"
  }
 },
 "nbformat": 4,
 "nbformat_minor": 2
}
